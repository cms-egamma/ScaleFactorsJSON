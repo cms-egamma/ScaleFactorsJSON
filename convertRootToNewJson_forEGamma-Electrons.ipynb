{
 "cells": [
  {
   "cell_type": "code",
   "execution_count": 1,
   "metadata": {},
   "outputs": [],
   "source": [
    "#Author: Anshul Kapoor\n",
    "#Code Purpose: Make Single JSON for all EGamma SFs\n",
    "\n",
    "#Names that you want for SFs for files above (same order please)\n",
    "namesSFs=[\"RecoBelow20\",\"RecoAbove20\",\"Veto\", \"Loose\", \"Medium\", \"Tight\", \"wp80iso\", \"wp80noiso\", \"wp90iso\", \"wp90noiso\"]\n",
    "\n",
    "#All the files for SFs\n",
    "files2016preVFP={\n",
    "    \"RecoBelow20\":\"EGdata/SF-Repository/UL_RecoSFs/egammaEffi_ptBelow20.txt_EGM2D_UL2016preVFP.root\",\n",
    "    \"RecoAbove20\":\"EGdata/SF-Repository/UL_RecoSFs/egammaEffi_ptAbove20.txt_EGM2D_UL2016preVFP.root\",\n",
    "    \"Veto\":\"EGdata/SF-Repository/UL16/preVFP/Electrons/Veto/egammaEffi.txt_Ele_Veto_preVFP_EGM2D.root\",\n",
    "    \"Loose\":\"EGdata/SF-Repository/UL16/preVFP/Electrons/Loose/egammaEffi.txt_Ele_Loose_preVFP_EGM2D.root\",\n",
    "    \"Medium\":\"EGdata/SF-Repository/UL16/preVFP/Electrons/Medium/egammaEffi.txt_Ele_Medium_preVFP_EGM2D.root\",\n",
    "    \"Tight\":\"EGdata/SF-Repository/UL16/preVFP/Electrons/Tight/egammaEffi.txt_Ele_Tight_preVFP_EGM2D.root\",\n",
    "    \"wp80iso\":\"EGdata/SF-Repository/UL16/preVFP/Electrons/wp80iso/egammaEffi.txt_Ele_wp80iso_preVFP_EGM2D.root\",\n",
    "    \"wp80noiso\":\"EGdata/SF-Repository/UL16/preVFP/Electrons/wp80noiso/egammaEffi.txt_Ele_wp80noiso_preVFP_EGM2D.root\",\n",
    "    \"wp90iso\":\"EGdata/SF-Repository/UL16/preVFP/Electrons/wp90iso/egammaEffi.txt_Ele_wp90iso_preVFP_EGM2D.root\",\n",
    "    \"wp90noiso\":\"EGdata/SF-Repository/UL16/preVFP/Electrons/wp90noiso/egammaEffi.txt_Ele_wp90noiso_preVFP_EGM2D.root\",\n",
    "    \n",
    "}\n",
    "\n",
    "files2016postVFP={\n",
    "    \"RecoBelow20\":\"EGdata/SF-Repository/UL_RecoSFs/egammaEffi_ptBelow20.txt_EGM2D_UL2016postVFP.root\",\n",
    "    \"RecoAbove20\":\"EGdata/SF-Repository/UL_RecoSFs/egammaEffi_ptAbove20.txt_EGM2D_UL2016postVFP.root\",\n",
    "    \"Veto\":\"EGdata/SF-Repository/UL16/postVFP/Electrons/Veto/egammaEffi.txt_EGM2D.root\",\n",
    "    \"Loose\":\"EGdata/SF-Repository/UL16/postVFP/Electrons/Loose/egammaEffi.txt_Ele_Loose_postVFP_EGM2D.root\",\n",
    "    \"Medium\":\"EGdata/SF-Repository/UL16/postVFP/Electrons/Medium/egammaEffi.txt_EGM2D.root\",\n",
    "    \"Tight\":\"EGdata/SF-Repository/UL16/postVFP/Electrons/Tight/egammaEffi.txt_EGM2D.root\",\n",
    "    \"wp80iso\":\"EGdata/SF-Repository/UL16/postVFP/Electrons/wp80iso/egammaEffi.txt_EGM2D.root\",\n",
    "    \"wp80noiso\":\"EGdata/SF-Repository/UL16/postVFP/Electrons/wp80noiso/egammaEffi.txt_EGM2D.root\",\n",
    "    \"wp90iso\":\"EGdata/SF-Repository/UL16/postVFP/Electrons/wp90iso/egammaEffi.txt_EGM2D.root\",\n",
    "    \"wp90noiso\":\"EGdata/SF-Repository/UL16/postVFP/Electrons/wp90noiso/egammaEffi.txt_EGM2D.root\",\n",
    "    \n",
    "}\n",
    "\n",
    "files2017={\n",
    "    \"RecoBelow20\":\"EGdata/SF-Repository/UL_RecoSFs/egammaEffi_ptBelow20.txt_EGM2D_UL2017.root\",\n",
    "    \"RecoAbove20\":\"EGdata/SF-Repository/UL_RecoSFs/egammaEffi_ptAbove20.txt_EGM2D_UL2017.root\",\n",
    "    \"Veto\":\"EGdata/SF-Repository/UL17/Electrons/Veto/passingVeto94XV2/egammaEffi.txt_EGM2D.root\",\n",
    "    \"Loose\":\"EGdata/SF-Repository/UL17/Electrons/Loose/passingLoose94XV2/egammaEffi.txt_EGM2D.root\",\n",
    "    \"Medium\":\"EGdata/SF-Repository/UL17/Electrons/Medium/passingMedium94XV2/egammaEffi.txt_EGM2D.root\",\n",
    "    \"Tight\":\"EGdata/SF-Repository/UL17/Electrons/Tight/passingTight94XV2/egammaEffi.txt_EGM2D.root\",\n",
    "    \"wp80iso\":\"EGdata/SF-Repository/UL17/Electrons/MVA80Iso/passingMVA94Xwp80isoV2/egammaEffi.txt_EGM2D.root\",\n",
    "    \"wp80noiso\":\"EGdata/SF-Repository/UL17/Electrons/MVA80NoIso/passingMVA94Xwp80noisoV2/egammaEffi.txt_EGM2D.root\",\n",
    "    \"wp90iso\":\"EGdata/SF-Repository/UL17/Electrons/MVA90Iso/passingMVA94Xwp90isoV2/egammaEffi.txt_EGM2D.root\",\n",
    "    \"wp90noiso\":\"EGdata/SF-Repository/UL17/Electrons/MVA90NoIso/passingMVA94Xwp90noisoV2/egammaEffi.txt_EGM2D.root\",\n",
    "    \n",
    "}\n",
    "\n",
    "files2018={\n",
    "    \"RecoBelow20\":\"EGdata/SF-Repository/UL_RecoSFs/egammaEffi_ptBelow20.txt_EGM2D_UL2018.root\",\n",
    "    \"RecoAbove20\":\"EGdata/SF-Repository/UL_RecoSFs/egammaEffi_ptAbove20.txt_EGM2D_UL2018.root\",\n",
    "    \"Veto\":\"EGdata/SF-Repository/UL18/Electrons/Veto/passingVeto94XV2/egammaEffi.txt_EGM2D.root\",\n",
    "    \"Loose\":\"EGdata/SF-Repository/UL18/Electrons/Loose/passingLoose94XV2/egammaEffi.txt_EGM2D.root\",\n",
    "    \"Medium\":\"EGdata/SF-Repository/UL18/Electrons/Medium/passingMedium94XV2/egammaEffi.txt_EGM2D.root\",\n",
    "    \"Tight\":\"EGdata/SF-Repository/UL18/Electrons/Tight/passingTight94XV2/egammaEffi.txt_EGM2D.root\",\n",
    "    \"wp80iso\":\"EGdata/SF-Repository/UL18/Electrons/wp80iso/passingMVA94Xwp80isoV2/egammaEffi.txt_EGM2D.root\",\n",
    "    \"wp80noiso\":\"EGdata/SF-Repository/UL18/Electrons/wp80noiso/passingMVA94Xwp80noisoV2/egammaEffi.txt_EGM2D.root\",\n",
    "    \"wp90iso\":\"EGdata/SF-Repository/UL18/Electrons/wp90iso/passingMVA94Xwp90isoV2/egammaEffi.txt_EGM2D.root\",\n",
    "    \"wp90noiso\":\"EGdata/SF-Repository/UL18/Electrons/wp90noiso/passingMVA94Xwp90noisoV2/egammaEffi.txt_EGM2D.root\",\n",
    "    \n",
    "}\n",
    "\n",
    "#Names that you want for errors for files above (same order please)\n",
    "nameJSON=\"electron.json\" # Name of final JSON\n",
    "\n",
    "sfhist=\"EGamma_SF2D\""
   ]
  },
  {
   "cell_type": "code",
   "execution_count": 2,
   "metadata": {},
   "outputs": [
    {
     "name": "stdout",
     "output_type": "stream",
     "text": [
      "Welcome to JupyROOT 6.22/06\n"
     ]
    }
   ],
   "source": [
    "from JSONTools import *"
   ]
  },
  {
   "cell_type": "code",
   "execution_count": 3,
   "metadata": {},
   "outputs": [],
   "source": [
    "corr = Correction.parse_obj(\n",
    "    {\n",
    "        \"version\": 2,\n",
    "        \"name\": \"UL-Electron-ID-SF\",\n",
    "        \"description\": \"Electron ID Scale Factors for Ultra Legacy\",\n",
    "        \"inputs\": [\n",
    "            {\"name\": \"year\",\"type\": \"string\", \"description\": \"year/scenario: example 2016preVFP, 2017 etc\"},\n",
    "            {\"name\": \"ValType\",\"type\": \"string\", \"description\": \"sf or syst (Currently syst is total syst) \"},\n",
    "            {\"name\": \"WorkingPoint\",\"type\": \"string\", \"description\": \"Working Point of choice : Loose, Medium etc.\"},\n",
    "            {\"type\": \"real\", \"name\": \"eta\", \"description\": \"supercluster eta\"},\n",
    "            {\"name\": \"pt\", \"type\": \"real\", \"description\": \"electron pT\"},\n",
    "        ],\n",
    "        \"output\": {\"name\": \"weight\", \"type\": \"real\", \"description\": \"value of scale factor or systematic uncertainty\"},\n",
    "        \"data\": schema.Category.parse_obj({\n",
    "            \"nodetype\": \"category\",\n",
    "            \"input\": \"year\",\n",
    "            \"content\": [\n",
    "                schema.CategoryItem.parse_obj({\"key\":\"2017\",\n",
    "                                               \"value\": SFyearwise(files=files2017,names=namesSFs)}),\n",
    "                schema.CategoryItem.parse_obj({\"key\":\"2018\",\n",
    "                                               \"value\": SFyearwise(files=files2018,names=namesSFs)}),\n",
    "                schema.CategoryItem.parse_obj({\"key\":\"2016preVFP\",\n",
    "                                               \"value\": SFyearwise(files=files2016preVFP,names=namesSFs)}),\n",
    "                schema.CategoryItem.parse_obj({\"key\":\"2016postVFP\",\n",
    "                                               \"value\": SFyearwise(files=files2016postVFP,names=namesSFs)}),]\n",
    "        })\n",
    "    })\n",
    "        \n",
    "corrs.append(corr)\n",
    "\n",
    "#Save JSON\n",
    "from correctionlib.schemav2 import CorrectionSet\n",
    "import gzip\n",
    "\n",
    "cset = CorrectionSet(schema_version=2, corrections=corrs)\n",
    "\n",
    "with open(nameJSON, \"w\") as fout:\n",
    "    fout.write(cset.json(exclude_unset=True, indent=4))"
   ]
  },
  {
   "cell_type": "code",
   "execution_count": 4,
   "metadata": {},
   "outputs": [
    {
     "name": "stdout",
     "output_type": "stream",
     "text": [
      "sf is:0.9585605263710022\n",
      "sf is:0.9845995903015136\n",
      "syst is:0.014436147986067594\n"
     ]
    }
   ],
   "source": [
    "from correctionlib import _core\n",
    "evaluator = _core.CorrectionSet.from_string(cset.json(exclude_unset=True, indent=4))\n",
    "\n",
    "\n",
    "\n",
    "valsf= evaluator[\"UL-Electron-ID-SF\"].evaluate(\"2016postVFP\",\"sf\",\"RecoBelow20\",1.1, 15.0)\n",
    "print(\"sf is:\"+str(valsf))\n",
    "\n",
    "valsf= evaluator[\"UL-Electron-ID-SF\"].evaluate(\"2016postVFP\",\"sf\",\"RecoAbove20\",1.1, 25.0)\n",
    "print(\"sf is:\"+str(valsf))\n",
    "\n",
    "valsyst= evaluator[\"UL-Electron-ID-SF\"].evaluate(\"2016postVFP\",\"syst\",\"Medium\",1.1, 34.0)\n",
    "print(\"syst is:\"+str(valsyst))\n"
   ]
  }
 ],
 "metadata": {
  "kernelspec": {
   "display_name": "Python 3",
   "language": "python",
   "name": "python3"
  },
  "language_info": {
   "codemirror_mode": {
    "name": "ipython",
    "version": 3
   },
   "file_extension": ".py",
   "mimetype": "text/x-python",
   "name": "python",
   "nbconvert_exporter": "python",
   "pygments_lexer": "ipython3",
   "version": "3.8.5"
  }
 },
 "nbformat": 4,
 "nbformat_minor": 4
}
