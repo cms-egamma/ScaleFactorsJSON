{
 "cells": [
  {
   "cell_type": "code",
   "execution_count": 1,
   "id": "c5a58c98",
   "metadata": {},
   "outputs": [],
   "source": [
    "HLT_sf=[\n",
    "    \n",
    "    {\"2022FG\":{\n",
    "        \"Loose\":\"EGdata/SF-Repository/Run3/testfiles_fromRiccardo/egammaEffi_Ele30LooseCutBasedID.txt_EGM2D.root\",\n",
    "        \"Medium\":\"EGdata/SF-Repository/Run3/testfiles_fromRiccardo/egammaEffi_Ele30MediumCutBasedID.txt_EGM2D.root\",\n",
    "        \"Tight\":\"EGdata/SF-Repository/Run3/testfiles_fromRiccardo/egammaEffi_Ele30TightCutBasedID.txt_EGM2D.root\",\n",
    "    }}\n",
    "]\n"
   ]
  },
  {
   "cell_type": "code",
   "execution_count": 2,
   "id": "d08d4461",
   "metadata": {},
   "outputs": [
    {
     "name": "stdout",
     "output_type": "stream",
     "text": [
      "Welcome to JupyROOT 6.24/00\n"
     ]
    }
   ],
   "source": [
    "from correctionlib.schemav2 import CorrectionSet\n",
    "import gzip\n",
    "from JSONTools import *"
   ]
  },
  {
   "cell_type": "code",
   "execution_count": 3,
   "id": "a4a6f775",
   "metadata": {},
   "outputs": [
    {
     "name": "stdout",
     "output_type": "stream",
     "text": [
      "Initialized\n",
      "X: [-inf, -2.0, -1.566, -1.444, 0.0, 1.444, 1.566, 2.0, inf]\n",
      "Y: [25.0, 30.0, 32.0, 34.0, 36.0, 38.0, 40.0, 43.0, 46.0, 50.0, 75.0, 100.0, 200.0, inf]\n",
      "X: [-inf, -2.0, -1.566, -1.444, 0.0, 1.444, 1.566, 2.0, inf]\n",
      "Y: [25.0, 30.0, 32.0, 34.0, 36.0, 38.0, 40.0, 43.0, 46.0, 50.0, 75.0, 100.0, 200.0, inf]\n",
      "X: [-inf, -2.0, -1.566, -1.444, 0.0, 1.444, 1.566, 2.0, inf]\n",
      "Y: [25.0, 30.0, 32.0, 34.0, 36.0, 38.0, 40.0, 43.0, 46.0, 50.0, 75.0, 100.0, 200.0, inf]\n",
      "X: [-inf, -2.0, -1.566, -1.444, 0.0, 1.444, 1.566, 2.0, inf]\n",
      "Y: [25.0, 30.0, 32.0, 34.0, 36.0, 38.0, 40.0, 43.0, 46.0, 50.0, 75.0, 100.0, 200.0, inf]\n",
      "X: [-inf, -2.0, -1.566, -1.444, 0.0, 1.444, 1.566, 2.0, inf]\n",
      "Y: [25.0, 30.0, 32.0, 34.0, 36.0, 38.0, 40.0, 43.0, 46.0, 50.0, 75.0, 100.0, 200.0, inf]\n",
      "X: [-inf, -2.0, -1.566, -1.444, 0.0, 1.444, 1.566, 2.0, inf]\n",
      "Y: [25.0, 30.0, 32.0, 34.0, 36.0, 38.0, 40.0, 43.0, 46.0, 50.0, 75.0, 100.0, 200.0, inf]\n",
      "X: [-inf, -2.0, -1.566, -1.444, 0.0, 1.444, 1.566, 2.0, inf]\n",
      "Y: [25.0, 30.0, 32.0, 34.0, 36.0, 38.0, 40.0, 43.0, 46.0, 50.0, 75.0, 100.0, 200.0, inf]\n",
      "X: [-inf, -2.0, -1.566, -1.444, 0.0, 1.444, 1.566, 2.0, inf]\n",
      "Y: [25.0, 30.0, 32.0, 34.0, 36.0, 38.0, 40.0, 43.0, 46.0, 50.0, 75.0, 100.0, 200.0, inf]\n",
      "X: [-inf, -2.0, -1.566, -1.444, 0.0, 1.444, 1.566, 2.0, inf]\n",
      "Y: [25.0, 30.0, 32.0, 34.0, 36.0, 38.0, 40.0, 43.0, 46.0, 50.0, 75.0, 100.0, 200.0, inf]\n"
     ]
    }
   ],
   "source": [
    "from Class_MakePhotonJSONs import *\n",
    "\n",
    "#years=[\"2017\",\"2018\",\"2016postVFP\",\"2016preVFP\"]\n",
    "years=[\"2022FG\"]\n",
    "nameJSON=\"photon.json\"\n",
    "era='Prompt'\n",
    "\n",
    "MakePhotonJSONs=MakePhotonJSONs(years)\n",
    "\n",
    "MakePhotonJSONs.HLT(HLT_sf)\n",
    "\n",
    "#MakePhotonJSONs.ID(ID_sf)\n",
    "#MakePhotonJSONs.CSEV(CSEV_sf)\n",
    "#MakePhotonJSONs.PixVeto(PixVeto_sf)"
   ]
  },
  {
   "cell_type": "code",
   "execution_count": 4,
   "id": "ee7740dc",
   "metadata": {},
   "outputs": [],
   "source": [
    "desc=\"These are the photon HLT Scale Factors (nominal, up or down) for {year} Ultra Legacy dataset. Each kind of scale factors, depend on the chosen working point, some other quantities. More information is below! Please keep in the mind that if your analysis is sensitive to high pT photons (>500 GeV), please refer https://twiki.cern.ch/twiki/bin/view/CMS/EGMPhotonIDHighPtPhotons\"\n",
    "        \n",
    "MakePhotonJSONs.SaveJSONs(desc,years,era,nameJSON)\n"
   ]
  },
  {
   "cell_type": "code",
   "execution_count": 5,
   "id": "7381c4fe",
   "metadata": {},
   "outputs": [],
   "source": [
    "##### Checking if everything works\n",
    "\n",
    "from correctionlib import _core\n",
    "#Download the correct JSON files \n",
    "evaluator = _core.CorrectionSet.from_file('2022FG_Prompt/photon.json')"
   ]
  },
  {
   "cell_type": "code",
   "execution_count": 10,
   "id": "093c9e3a",
   "metadata": {},
   "outputs": [
    {
     "name": "stdout",
     "output_type": "stream",
     "text": [
      "sf is:1.0108388662338257\n"
     ]
    }
   ],
   "source": [
    "valsf= evaluator[\"Photon-HLT-SF\"].evaluate(\"2022FG\",\"sf\",\"Loose\",-2.0,60.3)\n",
    "print(\"sf is:\"+str(valsf))"
   ]
  },
  {
   "cell_type": "code",
   "execution_count": null,
   "id": "21c3b18c",
   "metadata": {},
   "outputs": [],
   "source": []
  }
 ],
 "metadata": {
  "kernelspec": {
   "display_name": "Python 3 (ipykernel)",
   "language": "python",
   "name": "python3"
  },
  "language_info": {
   "codemirror_mode": {
    "name": "ipython",
    "version": 3
   },
   "file_extension": ".py",
   "mimetype": "text/x-python",
   "name": "python",
   "nbconvert_exporter": "python",
   "pygments_lexer": "ipython3",
   "version": "3.6.13"
  }
 },
 "nbformat": 4,
 "nbformat_minor": 5
}
