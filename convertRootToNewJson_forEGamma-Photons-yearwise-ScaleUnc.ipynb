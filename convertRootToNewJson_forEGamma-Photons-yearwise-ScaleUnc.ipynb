{
 "cells": [
  {
   "cell_type": "code",
   "execution_count": 1,
   "metadata": {},
   "outputs": [],
   "source": [
    "#Author: Anshul Kapoor\n",
    "#Code Purpose: Make Single JSON for all EGamma SFs\n",
    "\n",
    "\n",
    "#Names that you want for errors for files above (same order please)\n",
    "nameJSON=\"EGM_ScaleUnc.json\" # Name of final JSON"
   ]
  },
  {
   "cell_type": "code",
   "execution_count": 2,
   "metadata": {},
   "outputs": [
    {
     "name": "stdout",
     "output_type": "stream",
     "text": [
      "Welcome to JupyROOT 6.24/00\n"
     ]
    }
   ],
   "source": [
    "from JSONTools import *"
   ]
  },
  {
   "cell_type": "code",
   "execution_count": 3,
   "metadata": {},
   "outputs": [
    {
     "name": "stdout",
     "output_type": "stream",
     "text": [
      "Storing SFs for 2017 in  2017_UL/\n",
      "-----------------------\n",
      "Storing SFs for 2018 in  2018_UL/\n",
      "-----------------------\n",
      "Storing SFs for 2016preVFP in  2016preVFP_UL/\n",
      "-----------------------\n",
      "Storing SFs for 2016postVFP in  2016postVFP_UL/\n",
      "-----------------------\n"
     ]
    }
   ],
   "source": [
    "from correctionlib.schemav2 import CorrectionSet\n",
    "import gzip\n",
    "\n",
    "folders=[\"2017_UL/\",\"2018_UL/\",\"2016preVFP_UL/\",\"2016postVFP_UL/\"]\n",
    "years=[\"2017\",\"2018\",\"2016preVFP\",\"2016postVFP\"]\n",
    "\n",
    "for year,folder in zip(years,folders):\n",
    "    corrs=[]\n",
    "    print(f'Storing SFs for {year} in  {folder}')\n",
    "    print(f'-----------------------')\n",
    "    corr = Correction.parse_obj(\n",
    "        {\n",
    "            \"version\": 2,\n",
    "            \"name\": \"UL-EGM_ScaleUnc\",\n",
    "            \"description\": f\"These are the Scale unc (up or down) for {year} Ultra Legacy dataset.\",\n",
    "            \"inputs\": [\n",
    "                {\"name\": \"year\",\"type\": \"string\", \"description\": \"year/scenario: example 2016preVFP, 2017 etc\"},\n",
    "                {\"name\": \"ValType\",\"type\": \"string\", \"description\": \"ssup/ssdown \"},\n",
    "                {\"name\": \"eta\",\"type\": \"real\"},\n",
    "                {\"name\": \"gain\",\"type\": \"int\"},\n",
    "            ],\n",
    "            \"output\": {\"name\": \"unc\", \"type\": \"real\", \"description\": \"value of unc (up or down)\"},\n",
    "            \"data\": schema.Category.parse_obj({\n",
    "                \"nodetype\": \"category\",\n",
    "                \"input\": \"year\",\n",
    "                \"content\": [\n",
    "                schema.CategoryItem.parse_obj({\"key\":year,\n",
    "                                               \"value\": ScaleUnc(year)})]\n",
    "            })\n",
    "        })\n",
    "\n",
    "    corrs.append(corr)\n",
    "\n",
    "\n",
    "    #Save JSON\n",
    "\n",
    "\n",
    "    cset = CorrectionSet(schema_version=2, corrections=corrs,description=f\"These are the photon ID, Pixel veto and CSEV Scale Factors (nominal, up or down) for {year} Ultra Legacy dataset. Each kind of scale factors, depend on the chosen working point, some other quantities. More information is below! Please keep in the mind that if your analysis is sensitive to high pT photons (>500 GeV), please refer https://twiki.cern.ch/twiki/bin/view/CMS/EGMPhotonIDHighPtPhotons\")\n",
    "\n",
    "    with open(folder+nameJSON, \"w\") as fout:\n",
    "        fout.write(cset.json(exclude_unset=True, indent=4))"
   ]
  },
  {
   "cell_type": "code",
   "execution_count": 7,
   "metadata": {},
   "outputs": [],
   "source": [
    "from correctionlib import _core\n",
    "#Download the correct JSON files \n",
    "evaluator = _core.CorrectionSet.from_file('2016postVFP_UL/EGM_ScaleUnc.json')"
   ]
  },
  {
   "cell_type": "code",
   "execution_count": 8,
   "metadata": {},
   "outputs": [
    {
     "name": "stdout",
     "output_type": "stream",
     "text": [
      "ssup is:1.0015\n"
     ]
    }
   ],
   "source": [
    "\n",
    "valsyst= evaluator[\"UL-EGM_ScaleUnc\"].evaluate(\"2016postVFP\",\"scaleup\",2.0,12)\n",
    "print(\"ssup is:\"+str(valsyst))"
   ]
  },
  {
   "cell_type": "code",
   "execution_count": 9,
   "metadata": {},
   "outputs": [
    {
     "name": "stdout",
     "output_type": "stream",
     "text": [
      "ssdown is:0.9985\n"
     ]
    }
   ],
   "source": [
    "valsyst= evaluator[\"UL-EGM_ScaleUnc\"].evaluate(\"2016postVFP\",\"scaledown\",2.0,12)\n",
    "print(\"ssdown is:\"+str(valsyst))"
   ]
  },
  {
   "cell_type": "code",
   "execution_count": 13,
   "metadata": {},
   "outputs": [
    {
     "name": "stdout",
     "output_type": "stream",
     "text": [
      "ssdown is:0.00075\n"
     ]
    }
   ],
   "source": [
    "valsyst= evaluator[\"UL-EGM_ScaleUnc\"].evaluate(\"2016postVFP\",\"scaleunc\",1.1,12)\n",
    "print(\"ssdown is:\"+str(valsyst))"
   ]
  },
  {
   "cell_type": "code",
   "execution_count": null,
   "metadata": {},
   "outputs": [],
   "source": []
  }
 ],
 "metadata": {
  "kernelspec": {
   "display_name": "Python 3 (ipykernel)",
   "language": "python",
   "name": "python3"
  },
  "language_info": {
   "codemirror_mode": {
    "name": "ipython",
    "version": 3
   },
   "file_extension": ".py",
   "mimetype": "text/x-python",
   "name": "python",
   "nbconvert_exporter": "python",
   "pygments_lexer": "ipython3",
   "version": "3.6.13"
  }
 },
 "nbformat": 4,
 "nbformat_minor": 4
}
