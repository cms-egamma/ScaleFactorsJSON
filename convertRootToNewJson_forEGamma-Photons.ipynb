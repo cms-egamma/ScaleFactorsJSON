{
 "cells": [
  {
   "cell_type": "code",
   "execution_count": 1,
   "metadata": {},
   "outputs": [],
   "source": [
    "#Author: Anshul Kapoor\n",
    "#Code Purpose: Make Single JSON for all EGamma SFs\n",
    "\n",
    "#Names that you want for SFs for files above (same order please)\n",
    "namesSFs=[\"Loose\", \"Medium\", \"Tight\", \"wp80\", \"wp90\"]\n",
    "\n",
    "#All the files for SFs\n",
    "files2016preVFP={\n",
    "    \"Loose\":\"EGdata/SF-Repository/UL16/preVFP/Photons/Loose/egammaEffi.txt_EGM2D.root\",\n",
    "    \"Medium\":\"EGdata/SF-Repository/UL16/preVFP/Photons/Medium/egammaEffi.txt_EGM2D.root\",\n",
    "    \"Tight\":\"EGdata/SF-Repository/UL16/preVFP/Photons/Tight/egammaEffi.txt_EGM2D.root\",\n",
    "    \"wp80\":\"EGdata/SF-Repository/UL16/preVFP/Photons/MVA80/egammaEffi.txt_EGM2D.root\",\n",
    "    \"wp90\":\"EGdata/SF-Repository/UL16/preVFP/Photons/MVA90/egammaEffi.txt_EGM2D.root\",\n",
    "}\n",
    "\n",
    "\n",
    "files2016postVFP={\n",
    "    \"Loose\":\"EGdata/SF-Repository/UL16/postVFP/Photons/Loose/egammaEffi.txt_EGM2D_Pho_Loose_UL16_postVFP.root\",\n",
    "    \"Medium\":\"EGdata/SF-Repository/UL16/postVFP/Photons/Medium/egammaEffi.txt_EGM2D.root\",\n",
    "    \"Tight\":\"EGdata/SF-Repository/UL16/postVFP/Photons/Tight/egammaEffi.txt_EGM2D_Pho_Tight_UL16_postVFP.root\",\n",
    "    \"wp80\":\"EGdata/SF-Repository/UL16/postVFP/Photons/MVA80/egammaEffi.txt_EGM2D_Pho_MVA80_UL16_postVFP.root\",\n",
    "    \"wp90\":\"EGdata/SF-Repository/UL16/postVFP/Photons/MVA90/egammaEffi.txt_EGM2D_Pho_MVA90_UL16_postVFP.root\",\n",
    "}\n",
    "\n",
    "files2017={\n",
    "    \"Loose\":\"EGdata/SF-Repository/UL17/Photons/Loose/passingLoose100XV2_lowpTChebychev_addGaus/egammaEffi.txt_EGM2D.root\",\n",
    "    \"Medium\":\"EGdata/SF-Repository/UL17/Photons/Medium/egammaEffi.txt_EGM2D.root\",\n",
    "    \"Tight\":\"EGdata/SF-Repository/UL17/Photons/Tight/egammaEffi.txt_EGM2D.root\",\n",
    "    \"wp80\":\"EGdata/SF-Repository/UL17/Photons/MVA80/passingMVA94XV2wp80/egammaEffi.txt_EGM2D.root\",\n",
    "    \"wp90\":\"EGdata/SF-Repository/UL17/Photons/MVA90/passingMVA94XV2wp90/egammaEffi.txt_EGM2D.root\",\n",
    "}\n",
    "\n",
    "files2018={\n",
    "    \"Loose\":\"EGdata/SF-Repository/UL18/Photons/Loose/passingLoose100XV2/egammaEffi.txt_EGM2D.root\",\n",
    "    \"Medium\":\"EGdata/SF-Repository/UL18/Photons/Medium/passingMedium100XV2/egammaEffi.txt_EGM2D.root\",\n",
    "    \"Tight\":\"EGdata/SF-Repository/UL18/Photons/Tight/passingTight100XV2/egammaEffi.txt_EGM2D.root\",\n",
    "    \"wp80\":\"EGdata/SF-Repository/UL18/Photons/MVA80/passingMVA94XV2wp80/egammaEffi.txt_EGM2D.root\",\n",
    "    \"wp90\":\"EGdata/SF-Repository/UL18/Photons/MVA90/passingMVA94XV2wp90/egammaEffi.txt_EGM2D.root\",\n",
    "}\n",
    "\n",
    "\n",
    "\n",
    "\n",
    "\n",
    "#Names that you want for errors for files above (same order please)\n",
    "nameJSON=\"egcorrs_Photons_UL.json\" # Name of final JSON\n",
    "\n",
    "sfhist=\"EGamma_SF2D\""
   ]
  },
  {
   "cell_type": "code",
   "execution_count": 3,
   "metadata": {},
   "outputs": [],
   "source": [
    "from JSONTools import *"
   ]
  },
  {
   "cell_type": "code",
   "execution_count": 4,
   "metadata": {},
   "outputs": [],
   "source": [
    "corr = Correction.parse_obj(\n",
    "    {\n",
    "        \"version\": 2,\n",
    "        \"name\": \"PhotonsUL\",\n",
    "        \"inputs\": [\n",
    "            {\"name\": \"year\",\"type\": \"string\"},\n",
    "            {\"name\": \"ValType\",\"type\": \"string\"},\n",
    "            {\"name\": \"WorkingPoint\",\"type\": \"string\"},\n",
    "            {\"type\": \"real\", \"name\": \"eta\", \"description\": \"possibly supercluster eta?\"},\n",
    "            {\"name\": \"pt\", \"type\": \"real\"},\n",
    "        ],\n",
    "        \"output\": {\"name\": \"weight\", \"type\": \"real\"},\n",
    "        \"data\": schema.Category.parse_obj({\n",
    "            \"nodetype\": \"category\",\n",
    "            \"input\": \"year\",\n",
    "            \"content\": [\n",
    "                schema.CategoryItem.parse_obj({\"key\":\"2017\",\n",
    "                                               \"value\": SFyearwise(files=files2017,names=namesSFs)}),\n",
    "                schema.CategoryItem.parse_obj({\"key\":\"2018\",\n",
    "                                               \"value\": SFyearwise(files=files2018,names=namesSFs)}),\n",
    "                schema.CategoryItem.parse_obj({\"key\":\"2016preVFP\",\n",
    "                                               \"value\": SFyearwise(files=files2016preVFP,names=namesSFs)}),\n",
    "                schema.CategoryItem.parse_obj({\"key\":\"2016postVFP\",\n",
    "                                               \"value\": SFyearwise(files=files2016postVFP,names=namesSFs)}),]\n",
    "        })\n",
    "    })\n",
    "        \n",
    "corrs.append(corr)\n",
    "\n",
    "#Save JSON\n",
    "from correctionlib.schemav2 import CorrectionSet\n",
    "import gzip\n",
    "\n",
    "cset = CorrectionSet(schema_version=2, corrections=corrs)\n",
    "\n",
    "with open(nameJSON, \"w\") as fout:\n",
    "    fout.write(cset.json(exclude_unset=True, indent=4))"
   ]
  },
  {
   "cell_type": "code",
   "execution_count": 5,
   "metadata": {},
   "outputs": [],
   "source": [
    "#Evaluator Example\n",
    "\n",
    "from correctionlib import _core\n",
    "evaluator = _core.CorrectionSet.from_string(cset.json(exclude_unset=True, indent=4))\n"
   ]
  },
  {
   "cell_type": "code",
   "execution_count": 6,
   "metadata": {},
   "outputs": [
    {
     "name": "stdout",
     "output_type": "stream",
     "text": [
      "sf is:0.9985875487327576\n",
      "syst is:0.023524939995167835\n"
     ]
    }
   ],
   "source": [
    "valsf= evaluator[\"PhotonsUL\"].evaluate(\"2017\",\"sf\",\"Medium\",1.1, 34.0)\n",
    "print(\"sf is:\"+str(valsf))\n",
    "\n",
    "valsyst= evaluator[\"PhotonsUL\"].evaluate(\"2016postVFP\",\"syst\",\"Medium\",1.1, 34.0)\n",
    "print(\"syst is:\"+str(valsyst))"
   ]
  },
  {
   "cell_type": "code",
   "execution_count": null,
   "metadata": {},
   "outputs": [],
   "source": []
  }
 ],
 "metadata": {
  "kernelspec": {
   "display_name": "Python 3",
   "language": "python",
   "name": "python3"
  },
  "language_info": {
   "codemirror_mode": {
    "name": "ipython",
    "version": 3
   },
   "file_extension": ".py",
   "mimetype": "text/x-python",
   "name": "python",
   "nbconvert_exporter": "python",
   "pygments_lexer": "ipython3",
   "version": "3.8.5"
  }
 },
 "nbformat": 4,
 "nbformat_minor": 4
}
